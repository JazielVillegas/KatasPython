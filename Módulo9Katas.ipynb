{
  "cells": [
    {
      "cell_type": "markdown",
      "metadata": {},
      "source": [
        "## Mario Jaziel Villegas Cano"
      ]
    },
    {
      "cell_type": "markdown",
      "metadata": {},
      "source": [
        "# Ejercicio: Uso de funciones en Python"
      ]
    },
    {
      "cell_type": "markdown",
      "metadata": {},
      "source": [
        "### Ejercicio 1: Trabajar con argumentos en funciones\n",
        "\n",
        "Los argumentos requeridos en las funciones se utilizan cuando las funciones necesitan que esos argumentos funcionen correctamente. En este ejercicio, construirás un informe de combustible que requiere información de varias ubicaciones de combustible en todo el cohete.\n",
        "\n"
      ]
    },
    {
      "cell_type": "markdown",
      "metadata": {},
      "source": [
        "> **TIP**\n",
        "> Dedica unos minutos para tratar de encontrar una solución. Luego desplázate hacia abajo hasta la parte inferior para ver si has logrado compilar el programa de acuerdo con las especificaciones\n",
        "\n",
        "Comienza por crear una función que necesite tres lecturas de combustible y devuelva un informe:"
      ]
    },
    {
      "cell_type": "code",
      "execution_count": null,
      "metadata": {},
      "outputs": [],
      "source": [
        "# Función para leer 3 tanques de combustible y muestre el promedio\n",
        "def average(tan1,tan2,tan3):\n",
        "    total = (tan1+ tan2 + tan3) / 3\n",
        "    return f\"\"\"Reporte:\n",
        "    Promedio: {total}%\n",
        "    Tanque 1: {tan1}%\n",
        "    Tanque 2: {tan2}%\n",
        "    Tanque 3: {tan3}%\n",
        "    \"\"\""
      ]
    },
    {
      "cell_type": "markdown",
      "metadata": {},
      "source": [
        "Ahora que hemos definido la función de informes, vamos a comprobarlo. Para esta misión, los tanques no están llenos:"
      ]
    },
    {
      "cell_type": "code",
      "execution_count": 2,
      "metadata": {},
      "outputs": [
        {
          "name": "stdout",
          "output_type": "stream",
          "text": [
            "Reporte:\n",
            "    Promedio: 60.0%\n",
            "    Tanque 1: 60%\n",
            "    Tanque 2: 40%\n",
            "    Tanque 3: 80%\n",
            "    \n"
          ]
        }
      ],
      "source": [
        "\n",
        "# Llamamos a la función que genera el reporte print(funcion(tanque1, tanque2, tanque3))\n",
        "def average(tan1,tan2,tan3):\n",
        "    total = (tan1+ tan2 + tan3) / 3\n",
        "    return f\"\"\"Reporte:\n",
        "    Promedio: {total}%\n",
        "    Tanque 1: {tan1}%\n",
        "    Tanque 2: {tan2}%\n",
        "    Tanque 3: {tan3}%\n",
        "    \"\"\"\n",
        "\n",
        "print (average(60,40,80))"
      ]
    },
    {
      "cell_type": "markdown",
      "metadata": {},
      "source": [
        "En lugar de simplemente crear el informe, la función también está calculando el promedio. Mejora la legibilidad extrayendo el cálculo promedio de la función en una nueva función para que el promedio se pueda hacer de forma independiente:"
      ]
    },
    {
      "cell_type": "code",
      "execution_count": 11,
      "metadata": {},
      "outputs": [],
      "source": [
        "# Función promedio \n",
        "def prom(tan1,tan2,tan3):\n",
        "    total = (tan1+ tan2 + tan3) / 3\n",
        "    return f\"\"\"Reporte:\n",
        "    Promedio: {total}%\n",
        "    Tanque 1: {tan1}%\n",
        "    Tanque 2: {tan2}%\n",
        "    Tanque 3: {tan3}%\n",
        "    \"\"\"\n",
        "def prom(values):\n",
        "    suma = sum(values)\n",
        "    tanques = len(values)\n",
        "    return suma / tanques"
      ]
    },
    {
      "cell_type": "markdown",
      "metadata": {},
      "source": [
        "Ahora actualiza la función de informes para llamando a la nueva función del promedio:\n"
      ]
    },
    {
      "cell_type": "code",
      "execution_count": 2,
      "metadata": {},
      "outputs": [
        {
          "name": "stdout",
          "output_type": "stream",
          "text": [
            "Reporte:\n",
            "    Promedio: 50.0%\n",
            "    Tanque 1: 40%\n",
            "    Tanque 2: 80%\n",
            "    Tanque 3: 30%\n",
            "    \n"
          ]
        }
      ],
      "source": [
        "# Actualiza la función\n",
        "def prom(tan1,tan2,tan3):\n",
        "    total = (tan1+ tan2 + tan3) / 3\n",
        "    return f\"\"\"Reporte:\n",
        "    Promedio: {total}%\n",
        "    Tanque 1: {tan1}%\n",
        "    Tanque 2: {tan2}%\n",
        "    Tanque 3: {tan3}%\n",
        "    \"\"\"\n",
        "print (prom(40,80,30))\n"
      ]
    },
    {
      "cell_type": "markdown",
      "metadata": {},
      "source": [
        "> Recuerda: Lo importante es intentarlo, puedes auxiliarte de internet, libros, etc. El objetivo de una kata es la comprobación de la comprensión de la lección y su aplicación inmediata a la resolución de problemas. Go for it!"
      ]
    },
    {
      "cell_type": "markdown",
      "metadata": {},
      "source": [
        "## Ejercicio 2: Trabajo con argumentos de palabra clave"
      ]
    },
    {
      "cell_type": "markdown",
      "metadata": {},
      "source": [
        "### Ejercicio : Trabajar con argumentos de palabras clave en funciones\n",
        "En este ejercicio, construirás un informe de cohete que requiere varias piezas de información, como el tiempo hasta el destino, el combustible a la izquierda y el nombre del destino. Comienza por crear una función que creará un informe preciso de la misión:"
      ]
    },
    {
      "cell_type": "code",
      "execution_count": null,
      "metadata": {},
      "outputs": [],
      "source": [
        "# Función con un informe preciso de la misión. Considera hora de prelanzamiento, tiempo de vuelo, destino, tanque externo y tanque interno\n",
        "def reporte(hora_pre,time,destiny,tanque1, tanque2):\n",
        "    return f\"\"\"\"\n",
        "    Destino: {destiny}\n",
        "    Hora de prelanzamiento: {hora_pre}\n",
        "    Tiempo de vuelo: {time}\n",
        "    Tanque 1: {tanque1}\n",
        "    Tanque 2: {tanque2}\n",
        "    \"\"\""
      ]
    },
    {
      "cell_type": "markdown",
      "metadata": {},
      "source": [
        "La función es problemática porque no se puede adaptar para minutos adicionales o tanques adicionales de combustible. Hazlo más flexible permitiendo cualquier número de pasos basados en el tiempo y cualquier número de tanques. En lugar de usar `*args` y `**kwargs`, aprovecha el hecho de que puedes usar cualquier nombre que desees. Asegurate que la función sea más legible mediante el uso de nombres de variables que están asociados con las entradas, como `*minutes` y `**fuel_reservoirs`:"
      ]
    },
    {
      "cell_type": "code",
      "execution_count": 7,
      "metadata": {},
      "outputs": [
        {
          "name": "stdout",
          "output_type": "stream",
          "text": [
            "\"\n",
            "    Destino: Mars\n",
            "    Tiempo total: 110\n",
            "    Tanques: 44000\n",
            "    \n"
          ]
        }
      ],
      "source": [
        "# Escribe tu nueva función de reporte considerando lo anterior\n",
        "def reporte(destiny,*time,**tanque):\n",
        "    return f\"\"\"\"\n",
        "    Destino: {destiny}\n",
        "    Tiempo total: {sum(time)}\n",
        "    Tanques: {sum(tanque.values())}\n",
        "    \"\"\"\n",
        "print(reporte(\"Mars\", 40,20,50,tan1=12000,tan2=32000))"
      ]
    },
    {
      "cell_type": "markdown",
      "metadata": {},
      "source": [
        "Debido a que el combustible que queda en los tanques es específico de cada tanque, actualiza la función para usar el nombre de cada tanque en el informe:"
      ]
    },
    {
      "cell_type": "code",
      "execution_count": 9,
      "metadata": {},
      "outputs": [
        {
          "name": "stdout",
          "output_type": "stream",
          "text": [
            "\"\n",
            "    Destino: Mars\n",
            "    Tiempo total: 110\n",
            "    Tanques: 44000\n",
            "    ('tan1', 12000) reserva\n"
          ]
        }
      ],
      "source": [
        "# Escribe tu nueva función\n",
        "def reporte(destiny,*time,**tanque):\n",
        "    report= f\"\"\"\"\n",
        "    Destino: {destiny}\n",
        "    Tiempo total: {sum(time)}\n",
        "    Tanques: {sum(tanque.values())}\n",
        "    \"\"\"\n",
        "    for tanque1 in tanque.items():\n",
        "        report += f\"{tanque1} reserva\"\n",
        "        return report\n",
        "print(reporte(\"Mars\", 40,20,50,tan1=12000,tan2=32000))"
      ]
    }
  ],
  "metadata": {
    "interpreter": {
      "hash": "205095b8b86ea82a021a8fc2ffba2b3bc9f8d0be25999901963b225939f75778"
    },
    "kernelspec": {
      "display_name": "Python 3.8.10 64-bit ('tmp': conda)",
      "name": "python3"
    },
    "language_info": {
      "codemirror_mode": {
        "name": "ipython",
        "version": 3
      },
      "file_extension": ".py",
      "mimetype": "text/x-python",
      "name": "python",
      "nbconvert_exporter": "python",
      "pygments_lexer": "ipython3",
      "version": "3.9.10"
    },
    "nteract": {
      "version": "nteract-front-end@1.0.0"
    },
    "orig_nbformat": 4
  },
  "nbformat": 4,
  "nbformat_minor": 2
}
